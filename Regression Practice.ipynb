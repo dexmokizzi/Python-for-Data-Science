{
 "cells": [
  {
   "cell_type": "markdown",
   "metadata": {},
   "source": [
    "## Import necessary libraries"
   ]
  },
  {
   "cell_type": "code",
   "execution_count": 1,
   "metadata": {},
   "outputs": [],
   "source": [
    "import numpy as np\n",
    "import pandas as pd\n",
    "import matplotlib.pyplot as plt\n",
    "import seaborn as sns\n",
    "%matplotlib inline"
   ]
  },
  {
   "cell_type": "markdown",
   "metadata": {},
   "source": [
    "### Load in data"
   ]
  },
  {
   "cell_type": "code",
   "execution_count": 2,
   "metadata": {},
   "outputs": [],
   "source": [
    "df = pd.read_excel(r\"C:\\Users\\USER\\Desktop\\Desktop\\Starting Machine Learning\\ML.xlsx\")"
   ]
  },
  {
   "cell_type": "code",
   "execution_count": 3,
   "metadata": {},
   "outputs": [
    {
     "data": {
      "text/html": [
       "<div>\n",
       "<style scoped>\n",
       "    .dataframe tbody tr th:only-of-type {\n",
       "        vertical-align: middle;\n",
       "    }\n",
       "\n",
       "    .dataframe tbody tr th {\n",
       "        vertical-align: top;\n",
       "    }\n",
       "\n",
       "    .dataframe thead th {\n",
       "        text-align: right;\n",
       "    }\n",
       "</style>\n",
       "<table border=\"1\" class=\"dataframe\">\n",
       "  <thead>\n",
       "    <tr style=\"text-align: right;\">\n",
       "      <th></th>\n",
       "      <th>Timestamp</th>\n",
       "      <th>Your height in meters</th>\n",
       "      <th>Your weight in kg</th>\n",
       "      <th>Your age in years</th>\n",
       "      <th>Your gender</th>\n",
       "      <th>Your marital Status</th>\n",
       "      <th>Highest educational attainment</th>\n",
       "      <th>Do you think those around you are living a better life than you?</th>\n",
       "    </tr>\n",
       "  </thead>\n",
       "  <tbody>\n",
       "    <tr>\n",
       "      <th>0</th>\n",
       "      <td>2020-07-21 19:10:57.644</td>\n",
       "      <td>1.400</td>\n",
       "      <td>60.0</td>\n",
       "      <td>24</td>\n",
       "      <td>Female</td>\n",
       "      <td>Single</td>\n",
       "      <td>Tertiary (University)</td>\n",
       "      <td>Neutral</td>\n",
       "    </tr>\n",
       "    <tr>\n",
       "      <th>1</th>\n",
       "      <td>2020-07-21 13:06:45.506</td>\n",
       "      <td>1.403</td>\n",
       "      <td>83.0</td>\n",
       "      <td>29</td>\n",
       "      <td>Male</td>\n",
       "      <td>Married</td>\n",
       "      <td>Tertiary (University)</td>\n",
       "      <td>Neutral</td>\n",
       "    </tr>\n",
       "    <tr>\n",
       "      <th>2</th>\n",
       "      <td>2020-07-21 16:04:04.269</td>\n",
       "      <td>1.430</td>\n",
       "      <td>70.0</td>\n",
       "      <td>31</td>\n",
       "      <td>Female</td>\n",
       "      <td>Single</td>\n",
       "      <td>Tertiary (University)</td>\n",
       "      <td>Agree</td>\n",
       "    </tr>\n",
       "    <tr>\n",
       "      <th>3</th>\n",
       "      <td>2020-07-21 20:55:51.228</td>\n",
       "      <td>1.450</td>\n",
       "      <td>62.0</td>\n",
       "      <td>24</td>\n",
       "      <td>Female</td>\n",
       "      <td>Single</td>\n",
       "      <td>Tertiary (University)</td>\n",
       "      <td>Neutral</td>\n",
       "    </tr>\n",
       "    <tr>\n",
       "      <th>4</th>\n",
       "      <td>2020-07-21 14:13:19.083</td>\n",
       "      <td>1.460</td>\n",
       "      <td>60.0</td>\n",
       "      <td>29</td>\n",
       "      <td>Female</td>\n",
       "      <td>Single</td>\n",
       "      <td>Tertiary (University)</td>\n",
       "      <td>Agree</td>\n",
       "    </tr>\n",
       "  </tbody>\n",
       "</table>\n",
       "</div>"
      ],
      "text/plain": [
       "                Timestamp  Your height in meters  Your weight in kg  \\\n",
       "0 2020-07-21 19:10:57.644                  1.400               60.0   \n",
       "1 2020-07-21 13:06:45.506                  1.403               83.0   \n",
       "2 2020-07-21 16:04:04.269                  1.430               70.0   \n",
       "3 2020-07-21 20:55:51.228                  1.450               62.0   \n",
       "4 2020-07-21 14:13:19.083                  1.460               60.0   \n",
       "\n",
       "   Your age in years Your gender Your marital Status  \\\n",
       "0                 24      Female              Single   \n",
       "1                 29        Male             Married   \n",
       "2                 31      Female              Single   \n",
       "3                 24      Female              Single   \n",
       "4                 29      Female              Single   \n",
       "\n",
       "  Highest educational attainment  \\\n",
       "0          Tertiary (University)   \n",
       "1          Tertiary (University)   \n",
       "2          Tertiary (University)   \n",
       "3          Tertiary (University)   \n",
       "4          Tertiary (University)   \n",
       "\n",
       "  Do you think those around you are living a better life than you?  \n",
       "0                                            Neutral                \n",
       "1                                            Neutral                \n",
       "2                                              Agree                \n",
       "3                                            Neutral                \n",
       "4                                              Agree                "
      ]
     },
     "execution_count": 3,
     "metadata": {},
     "output_type": "execute_result"
    }
   ],
   "source": [
    "df.head()"
   ]
  },
  {
   "cell_type": "markdown",
   "metadata": {},
   "source": [
    "### Check data properties"
   ]
  },
  {
   "cell_type": "code",
   "execution_count": 4,
   "metadata": {},
   "outputs": [
    {
     "name": "stdout",
     "output_type": "stream",
     "text": [
      "<class 'pandas.core.frame.DataFrame'>\n",
      "RangeIndex: 147 entries, 0 to 146\n",
      "Data columns (total 8 columns):\n",
      " #   Column                                                            Non-Null Count  Dtype         \n",
      "---  ------                                                            --------------  -----         \n",
      " 0   Timestamp                                                         147 non-null    datetime64[ns]\n",
      " 1   Your height in meters                                             147 non-null    float64       \n",
      " 2   Your weight in kg                                                 147 non-null    float64       \n",
      " 3   Your age in years                                                 147 non-null    int64         \n",
      " 4   Your gender                                                       147 non-null    object        \n",
      " 5   Your marital Status                                               147 non-null    object        \n",
      " 6   Highest educational attainment                                    147 non-null    object        \n",
      " 7   Do you think those around you are living a better life than you?  147 non-null    object        \n",
      "dtypes: datetime64[ns](1), float64(2), int64(1), object(4)\n",
      "memory usage: 9.3+ KB\n"
     ]
    }
   ],
   "source": [
    "df.info()"
   ]
  },
  {
   "cell_type": "code",
   "execution_count": 5,
   "metadata": {},
   "outputs": [
    {
     "data": {
      "text/plain": [
       "(147, 8)"
      ]
     },
     "execution_count": 5,
     "metadata": {},
     "output_type": "execute_result"
    }
   ],
   "source": [
    "df.shape"
   ]
  },
  {
   "cell_type": "code",
   "execution_count": 6,
   "metadata": {},
   "outputs": [
    {
     "data": {
      "text/plain": [
       "Timestamp                                                           0\n",
       "Your height in meters                                               0\n",
       "Your weight in kg                                                   0\n",
       "Your age in years                                                   0\n",
       "Your gender                                                         0\n",
       "Your marital Status                                                 0\n",
       "Highest educational attainment                                      0\n",
       "Do you think those around you are living a better life than you?    0\n",
       "dtype: int64"
      ]
     },
     "execution_count": 6,
     "metadata": {},
     "output_type": "execute_result"
    }
   ],
   "source": [
    "df.isnull().sum()"
   ]
  },
  {
   "cell_type": "markdown",
   "metadata": {},
   "source": [
    "### Exploratory Data Analysis"
   ]
  },
  {
   "cell_type": "code",
   "execution_count": 7,
   "metadata": {},
   "outputs": [
    {
     "data": {
      "text/html": [
       "<div>\n",
       "<style scoped>\n",
       "    .dataframe tbody tr th:only-of-type {\n",
       "        vertical-align: middle;\n",
       "    }\n",
       "\n",
       "    .dataframe tbody tr th {\n",
       "        vertical-align: top;\n",
       "    }\n",
       "\n",
       "    .dataframe thead th {\n",
       "        text-align: right;\n",
       "    }\n",
       "</style>\n",
       "<table border=\"1\" class=\"dataframe\">\n",
       "  <thead>\n",
       "    <tr style=\"text-align: right;\">\n",
       "      <th></th>\n",
       "      <th>Your height in meters</th>\n",
       "      <th>Your weight in kg</th>\n",
       "      <th>Your age in years</th>\n",
       "    </tr>\n",
       "  </thead>\n",
       "  <tbody>\n",
       "    <tr>\n",
       "      <th>count</th>\n",
       "      <td>147.000000</td>\n",
       "      <td>147.000000</td>\n",
       "      <td>147.000000</td>\n",
       "    </tr>\n",
       "    <tr>\n",
       "      <th>mean</th>\n",
       "      <td>1.673329</td>\n",
       "      <td>72.071363</td>\n",
       "      <td>31.326531</td>\n",
       "    </tr>\n",
       "    <tr>\n",
       "      <th>std</th>\n",
       "      <td>0.106861</td>\n",
       "      <td>17.963880</td>\n",
       "      <td>8.473297</td>\n",
       "    </tr>\n",
       "    <tr>\n",
       "      <th>min</th>\n",
       "      <td>1.400000</td>\n",
       "      <td>35.000000</td>\n",
       "      <td>20.000000</td>\n",
       "    </tr>\n",
       "    <tr>\n",
       "      <th>25%</th>\n",
       "      <td>1.600000</td>\n",
       "      <td>60.000000</td>\n",
       "      <td>25.000000</td>\n",
       "    </tr>\n",
       "    <tr>\n",
       "      <th>50%</th>\n",
       "      <td>1.670000</td>\n",
       "      <td>70.000000</td>\n",
       "      <td>28.000000</td>\n",
       "    </tr>\n",
       "    <tr>\n",
       "      <th>75%</th>\n",
       "      <td>1.730000</td>\n",
       "      <td>80.000000</td>\n",
       "      <td>34.000000</td>\n",
       "    </tr>\n",
       "    <tr>\n",
       "      <th>max</th>\n",
       "      <td>2.010000</td>\n",
       "      <td>161.000000</td>\n",
       "      <td>61.000000</td>\n",
       "    </tr>\n",
       "  </tbody>\n",
       "</table>\n",
       "</div>"
      ],
      "text/plain": [
       "       Your height in meters  Your weight in kg  Your age in years\n",
       "count             147.000000         147.000000         147.000000\n",
       "mean                1.673329          72.071363          31.326531\n",
       "std                 0.106861          17.963880           8.473297\n",
       "min                 1.400000          35.000000          20.000000\n",
       "25%                 1.600000          60.000000          25.000000\n",
       "50%                 1.670000          70.000000          28.000000\n",
       "75%                 1.730000          80.000000          34.000000\n",
       "max                 2.010000         161.000000          61.000000"
      ]
     },
     "execution_count": 7,
     "metadata": {},
     "output_type": "execute_result"
    }
   ],
   "source": [
    "df.describe()"
   ]
  },
  {
   "cell_type": "code",
   "execution_count": 8,
   "metadata": {},
   "outputs": [
    {
     "data": {
      "image/png": "[encoded data removed]",
      "text/plain": [
       "<Figure size 612.625x540 with 12 Axes>"
      ]
     },
     "metadata": {
      "needs_background": "light"
     },
     "output_type": "display_data"
    }
   ],
   "source": [
    "sns.set_palette(\"bright\")\n",
    "sns.pairplot(df, hue= \"Your gender\");"
   ]
  },
  {
   "cell_type": "code",
   "execution_count": 9,
   "metadata": {},
   "outputs": [
    {
     "data": {
      "image/png": "[encoded data removed]",
      "text/plain": [
       "<Figure size 432x288 with 2 Axes>"
      ]
     },
     "metadata": {
      "needs_background": "light"
     },
     "output_type": "display_data"
    }
   ],
   "source": [
    "#Corellation matrix\n",
    "sns.heatmap(df.corr(), annot=True, linewidths=0.5, cmap=\"coolwarm\");"
   ]
  },
  {
   "cell_type": "code",
   "execution_count": 10,
   "metadata": {},
   "outputs": [
    {
     "data": {
      "image/png": "[encoded data removed]",
      "text/plain": [
       "<Figure size 504x360 with 1 Axes>"
      ]
     },
     "metadata": {
      "needs_background": "light"
     },
     "output_type": "display_data"
    },
    {
     "data": {
      "image/png": "[encoded data removed]",
      "text/plain": [
       "<Figure size 504x360 with 1 Axes>"
      ]
     },
     "metadata": {
      "needs_background": "light"
     },
     "output_type": "display_data"
    },
    {
     "data": {
      "image/png": "[encoded data removed]",
      "text/plain": [
       "<Figure size 504x360 with 1 Axes>"
      ]
     },
     "metadata": {
      "needs_background": "light"
     },
     "output_type": "display_data"
    }
   ],
   "source": [
    "#Distribution of quantitative columns\n",
    "for d in df[[\"Your height in meters\", \"Your weight in kg\", \"Your age in years\"]]:\n",
    "    fig = plt.figure(figsize=(7,5))\n",
    "    sns.boxplot(x=\"Your gender\", y=d, data=df)\n",
    "    ax=fig.gca()"
   ]
  },
  {
   "cell_type": "code",
   "execution_count": 11,
   "metadata": {},
   "outputs": [
    {
     "data": {
      "image/png": "[encoded data removed]",
      "text/plain": [
       "<Figure size 432x288 with 1 Axes>"
      ]
     },
     "metadata": {
      "needs_background": "light"
     },
     "output_type": "display_data"
    }
   ],
   "source": [
    "splot = sns.countplot(x=\"Highest educational attainment\", data=df)\n",
    "for p in splot.patches:\n",
    "    splot.annotate(format(p.get_height()), (p.get_x()+p.get_width()/2.,p.get_height()), \n",
    "                   ha='center',va='center',xytext=(0,10),textcoords='offset points')\n",
    "plt.title(\"DISTRIBUTION OF EDUCATION ATTAINMENT\", size=14);"
   ]
  },
  {
   "cell_type": "code",
   "execution_count": 12,
   "metadata": {},
   "outputs": [
    {
     "data": {
      "image/png": "[encoded data removed]",
      "text/plain": [
       "<Figure size 432x288 with 1 Axes>"
      ]
     },
     "metadata": {
      "needs_background": "light"
     },
     "output_type": "display_data"
    }
   ],
   "source": [
    "splot = sns.countplot(x=\"Your marital Status\", data=df)\n",
    "for p in splot.patches:\n",
    "    splot.annotate(format(p.get_height()), (p.get_x()+p.get_width()/2.,p.get_height()), \n",
    "                   ha='center',va='center',xytext=(0,10),textcoords='offset points')\n",
    "plt.title(\"DISTRIBUTION OF MARITAL STATUS\", size=14);"
   ]
  },
  {
   "cell_type": "code",
   "execution_count": 13,
   "metadata": {},
   "outputs": [
    {
     "data": {
      "image/png": "[encoded data removed]",
      "text/plain": [
       "<Figure size 432x288 with 1 Axes>"
      ]
     },
     "metadata": {
      "needs_background": "light"
     },
     "output_type": "display_data"
    }
   ],
   "source": [
    "splot = sns.countplot(x=\"Your gender\", data=df)\n",
    "for p in splot.patches:\n",
    "    splot.annotate(format(p.get_height()), (p.get_x()+p.get_width()/2.,p.get_height()), \n",
    "                   ha='center',va='center',xytext=(0,10),textcoords='offset points')\n",
    "plt.title(\"DISTRIBUTION OF GENDER\", size=14);"
   ]
  },
  {
   "cell_type": "code",
   "execution_count": 14,
   "metadata": {},
   "outputs": [
    {
     "data": {
      "text/plain": [
       "Index(['Timestamp', 'Your height in meters', 'Your weight in kg',\n",
       "       'Your age in years', 'Your gender', 'Your marital Status',\n",
       "       'Highest educational attainment',\n",
       "       'Do you think those around you are living a better life than you?'],\n",
       "      dtype='object')"
      ]
     },
     "execution_count": 14,
     "metadata": {},
     "output_type": "execute_result"
    }
   ],
   "source": [
    "df.columns"
   ]
  },
  {
   "cell_type": "code",
   "execution_count": 15,
   "metadata": {},
   "outputs": [
    {
     "data": {
      "text/html": [
       "<div>\n",
       "<style scoped>\n",
       "    .dataframe tbody tr th:only-of-type {\n",
       "        vertical-align: middle;\n",
       "    }\n",
       "\n",
       "    .dataframe tbody tr th {\n",
       "        vertical-align: top;\n",
       "    }\n",
       "\n",
       "    .dataframe thead th {\n",
       "        text-align: right;\n",
       "    }\n",
       "</style>\n",
       "<table border=\"1\" class=\"dataframe\">\n",
       "  <thead>\n",
       "    <tr style=\"text-align: right;\">\n",
       "      <th></th>\n",
       "      <th>Your height in meters</th>\n",
       "      <th>Your weight in kg</th>\n",
       "      <th>Your age in years</th>\n",
       "      <th>Your gender</th>\n",
       "      <th>Your marital Status</th>\n",
       "      <th>Highest educational attainment</th>\n",
       "    </tr>\n",
       "  </thead>\n",
       "  <tbody>\n",
       "    <tr>\n",
       "      <th>0</th>\n",
       "      <td>1.400</td>\n",
       "      <td>60.0</td>\n",
       "      <td>24</td>\n",
       "      <td>Female</td>\n",
       "      <td>Single</td>\n",
       "      <td>Tertiary (University)</td>\n",
       "    </tr>\n",
       "    <tr>\n",
       "      <th>1</th>\n",
       "      <td>1.403</td>\n",
       "      <td>83.0</td>\n",
       "      <td>29</td>\n",
       "      <td>Male</td>\n",
       "      <td>Married</td>\n",
       "      <td>Tertiary (University)</td>\n",
       "    </tr>\n",
       "    <tr>\n",
       "      <th>2</th>\n",
       "      <td>1.430</td>\n",
       "      <td>70.0</td>\n",
       "      <td>31</td>\n",
       "      <td>Female</td>\n",
       "      <td>Single</td>\n",
       "      <td>Tertiary (University)</td>\n",
       "    </tr>\n",
       "    <tr>\n",
       "      <th>3</th>\n",
       "      <td>1.450</td>\n",
       "      <td>62.0</td>\n",
       "      <td>24</td>\n",
       "      <td>Female</td>\n",
       "      <td>Single</td>\n",
       "      <td>Tertiary (University)</td>\n",
       "    </tr>\n",
       "    <tr>\n",
       "      <th>4</th>\n",
       "      <td>1.460</td>\n",
       "      <td>60.0</td>\n",
       "      <td>29</td>\n",
       "      <td>Female</td>\n",
       "      <td>Single</td>\n",
       "      <td>Tertiary (University)</td>\n",
       "    </tr>\n",
       "  </tbody>\n",
       "</table>\n",
       "</div>"
      ],
      "text/plain": [
       "   Your height in meters  Your weight in kg  Your age in years Your gender  \\\n",
       "0                  1.400               60.0                 24      Female   \n",
       "1                  1.403               83.0                 29        Male   \n",
       "2                  1.430               70.0                 31      Female   \n",
       "3                  1.450               62.0                 24      Female   \n",
       "4                  1.460               60.0                 29      Female   \n",
       "\n",
       "  Your marital Status Highest educational attainment  \n",
       "0              Single          Tertiary (University)  \n",
       "1             Married          Tertiary (University)  \n",
       "2              Single          Tertiary (University)  \n",
       "3              Single          Tertiary (University)  \n",
       "4              Single          Tertiary (University)  "
      ]
     },
     "execution_count": 15,
     "metadata": {},
     "output_type": "execute_result"
    }
   ],
   "source": [
    "# Drop unnecessary columns\n",
    "cols = [\"Do you think those around you are living a better life than you?\", \"Timestamp\"]\n",
    "df = df.drop(columns=cols, axis=1)\n",
    "df.head()"
   ]
  },
  {
   "cell_type": "markdown",
   "metadata": {},
   "source": [
    "### Label Encoding"
   ]
  },
  {
   "cell_type": "code",
   "execution_count": 16,
   "metadata": {},
   "outputs": [],
   "source": [
    "from sklearn.preprocessing import LabelEncoder"
   ]
  },
  {
   "cell_type": "code",
   "execution_count": 17,
   "metadata": {},
   "outputs": [],
   "source": [
    "lb = LabelEncoder()"
   ]
  },
  {
   "cell_type": "code",
   "execution_count": 18,
   "metadata": {},
   "outputs": [],
   "source": [
    "cols = [\"Your gender\", \"Your marital Status\", \"Highest educational attainment\"]\n",
    "for col in cols:\n",
    "    df[col] = lb.fit_transform(df[col])"
   ]
  },
  {
   "cell_type": "code",
   "execution_count": 19,
   "metadata": {},
   "outputs": [
    {
     "data": {
      "text/html": [
       "<div>\n",
       "<style scoped>\n",
       "    .dataframe tbody tr th:only-of-type {\n",
       "        vertical-align: middle;\n",
       "    }\n",
       "\n",
       "    .dataframe tbody tr th {\n",
       "        vertical-align: top;\n",
       "    }\n",
       "\n",
       "    .dataframe thead th {\n",
       "        text-align: right;\n",
       "    }\n",
       "</style>\n",
       "<table border=\"1\" class=\"dataframe\">\n",
       "  <thead>\n",
       "    <tr style=\"text-align: right;\">\n",
       "      <th></th>\n",
       "      <th>Your height in meters</th>\n",
       "      <th>Your weight in kg</th>\n",
       "      <th>Your age in years</th>\n",
       "      <th>Your gender</th>\n",
       "      <th>Your marital Status</th>\n",
       "      <th>Highest educational attainment</th>\n",
       "    </tr>\n",
       "  </thead>\n",
       "  <tbody>\n",
       "    <tr>\n",
       "      <th>0</th>\n",
       "      <td>1.400</td>\n",
       "      <td>60.0</td>\n",
       "      <td>24</td>\n",
       "      <td>0</td>\n",
       "      <td>2</td>\n",
       "      <td>1</td>\n",
       "    </tr>\n",
       "    <tr>\n",
       "      <th>1</th>\n",
       "      <td>1.403</td>\n",
       "      <td>83.0</td>\n",
       "      <td>29</td>\n",
       "      <td>1</td>\n",
       "      <td>1</td>\n",
       "      <td>1</td>\n",
       "    </tr>\n",
       "    <tr>\n",
       "      <th>2</th>\n",
       "      <td>1.430</td>\n",
       "      <td>70.0</td>\n",
       "      <td>31</td>\n",
       "      <td>0</td>\n",
       "      <td>2</td>\n",
       "      <td>1</td>\n",
       "    </tr>\n",
       "    <tr>\n",
       "      <th>3</th>\n",
       "      <td>1.450</td>\n",
       "      <td>62.0</td>\n",
       "      <td>24</td>\n",
       "      <td>0</td>\n",
       "      <td>2</td>\n",
       "      <td>1</td>\n",
       "    </tr>\n",
       "    <tr>\n",
       "      <th>4</th>\n",
       "      <td>1.460</td>\n",
       "      <td>60.0</td>\n",
       "      <td>29</td>\n",
       "      <td>0</td>\n",
       "      <td>2</td>\n",
       "      <td>1</td>\n",
       "    </tr>\n",
       "  </tbody>\n",
       "</table>\n",
       "</div>"
      ],
      "text/plain": [
       "   Your height in meters  Your weight in kg  Your age in years  Your gender  \\\n",
       "0                  1.400               60.0                 24            0   \n",
       "1                  1.403               83.0                 29            1   \n",
       "2                  1.430               70.0                 31            0   \n",
       "3                  1.450               62.0                 24            0   \n",
       "4                  1.460               60.0                 29            0   \n",
       "\n",
       "   Your marital Status  Highest educational attainment  \n",
       "0                    2                               1  \n",
       "1                    1                               1  \n",
       "2                    2                               1  \n",
       "3                    2                               1  \n",
       "4                    2                               1  "
      ]
     },
     "execution_count": 19,
     "metadata": {},
     "output_type": "execute_result"
    }
   ],
   "source": [
    "df.head()"
   ]
  },
  {
   "cell_type": "markdown",
   "metadata": {},
   "source": [
    "### Feature Scaling"
   ]
  },
  {
   "cell_type": "code",
   "execution_count": 20,
   "metadata": {},
   "outputs": [],
   "source": [
    "from sklearn.preprocessing import StandardScaler"
   ]
  },
  {
   "cell_type": "code",
   "execution_count": 21,
   "metadata": {},
   "outputs": [],
   "source": [
    "scale = StandardScaler()"
   ]
  },
  {
   "cell_type": "code",
   "execution_count": 22,
   "metadata": {},
   "outputs": [
    {
     "data": {
      "text/plain": [
       "StandardScaler(copy=True, with_mean=True, with_std=True)"
      ]
     },
     "execution_count": 22,
     "metadata": {},
     "output_type": "execute_result"
    }
   ],
   "source": [
    "scale.fit(df.drop(\"Your age in years\", axis =1))"
   ]
  },
  {
   "cell_type": "code",
   "execution_count": 23,
   "metadata": {},
   "outputs": [],
   "source": [
    "scaled_features = scale.transform(df.drop(\"Your age in years\", axis =1))"
   ]
  },
  {
   "cell_type": "code",
   "execution_count": 24,
   "metadata": {},
   "outputs": [],
   "source": [
    "X = pd.DataFrame(data=scaled_features, columns=[\"Your height in meters\", \"Your weight in kg\", \"Your gender\", \"Your marital Status\", \"Highest educational attainment\"])"
   ]
  },
  {
   "cell_type": "code",
   "execution_count": 25,
   "metadata": {},
   "outputs": [
    {
     "data": {
      "text/html": [
       "<div>\n",
       "<style scoped>\n",
       "    .dataframe tbody tr th:only-of-type {\n",
       "        vertical-align: middle;\n",
       "    }\n",
       "\n",
       "    .dataframe tbody tr th {\n",
       "        vertical-align: top;\n",
       "    }\n",
       "\n",
       "    .dataframe thead th {\n",
       "        text-align: right;\n",
       "    }\n",
       "</style>\n",
       "<table border=\"1\" class=\"dataframe\">\n",
       "  <thead>\n",
       "    <tr style=\"text-align: right;\">\n",
       "      <th></th>\n",
       "      <th>Your height in meters</th>\n",
       "      <th>Your weight in kg</th>\n",
       "      <th>Your gender</th>\n",
       "      <th>Your marital Status</th>\n",
       "      <th>Highest educational attainment</th>\n",
       "    </tr>\n",
       "  </thead>\n",
       "  <tbody>\n",
       "    <tr>\n",
       "      <th>0</th>\n",
       "      <td>-2.566547</td>\n",
       "      <td>-0.674277</td>\n",
       "      <td>-1.006826</td>\n",
       "      <td>0.751664</td>\n",
       "      <td>0.206284</td>\n",
       "    </tr>\n",
       "    <tr>\n",
       "      <th>1</th>\n",
       "      <td>-2.538378</td>\n",
       "      <td>0.610447</td>\n",
       "      <td>0.993220</td>\n",
       "      <td>-1.257328</td>\n",
       "      <td>0.206284</td>\n",
       "    </tr>\n",
       "    <tr>\n",
       "      <th>2</th>\n",
       "      <td>-2.284849</td>\n",
       "      <td>-0.115701</td>\n",
       "      <td>-1.006826</td>\n",
       "      <td>0.751664</td>\n",
       "      <td>0.206284</td>\n",
       "    </tr>\n",
       "    <tr>\n",
       "      <th>3</th>\n",
       "      <td>-2.097050</td>\n",
       "      <td>-0.562562</td>\n",
       "      <td>-1.006826</td>\n",
       "      <td>0.751664</td>\n",
       "      <td>0.206284</td>\n",
       "    </tr>\n",
       "    <tr>\n",
       "      <th>4</th>\n",
       "      <td>-2.003151</td>\n",
       "      <td>-0.674277</td>\n",
       "      <td>-1.006826</td>\n",
       "      <td>0.751664</td>\n",
       "      <td>0.206284</td>\n",
       "    </tr>\n",
       "  </tbody>\n",
       "</table>\n",
       "</div>"
      ],
      "text/plain": [
       "   Your height in meters  Your weight in kg  Your gender  Your marital Status  \\\n",
       "0              -2.566547          -0.674277    -1.006826             0.751664   \n",
       "1              -2.538378           0.610447     0.993220            -1.257328   \n",
       "2              -2.284849          -0.115701    -1.006826             0.751664   \n",
       "3              -2.097050          -0.562562    -1.006826             0.751664   \n",
       "4              -2.003151          -0.674277    -1.006826             0.751664   \n",
       "\n",
       "   Highest educational attainment  \n",
       "0                        0.206284  \n",
       "1                        0.206284  \n",
       "2                        0.206284  \n",
       "3                        0.206284  \n",
       "4                        0.206284  "
      ]
     },
     "execution_count": 25,
     "metadata": {},
     "output_type": "execute_result"
    }
   ],
   "source": [
    "X.head()"
   ]
  },
  {
   "cell_type": "markdown",
   "metadata": {},
   "source": [
    "### Linear Regression Model"
   ]
  },
  {
   "cell_type": "code",
   "execution_count": 26,
   "metadata": {},
   "outputs": [],
   "source": [
    "#Assign dependent varible and independent varibles\n",
    "y = df[\"Your age in years\"] #Dependent varible\n",
    "X = X #Independent varibles"
   ]
  },
  {
   "cell_type": "code",
   "execution_count": 27,
   "metadata": {},
   "outputs": [],
   "source": [
    "#Split data using train_test_split\n",
    "from sklearn.model_selection import train_test_split"
   ]
  },
  {
   "cell_type": "code",
   "execution_count": 28,
   "metadata": {},
   "outputs": [],
   "source": [
    "X_train, X_test, y_train, y_test = train_test_split(X, y, test_size=0.25, random_state=101)"
   ]
  },
  {
   "cell_type": "code",
   "execution_count": 29,
   "metadata": {},
   "outputs": [],
   "source": [
    "from sklearn.linear_model import LinearRegression"
   ]
  },
  {
   "cell_type": "code",
   "execution_count": 30,
   "metadata": {},
   "outputs": [],
   "source": [
    "lm = LinearRegression()"
   ]
  },
  {
   "cell_type": "code",
   "execution_count": 31,
   "metadata": {},
   "outputs": [
    {
     "data": {
      "text/plain": [
       "LinearRegression(copy_X=True, fit_intercept=True, n_jobs=None, normalize=False)"
      ]
     },
     "execution_count": 31,
     "metadata": {},
     "output_type": "execute_result"
    }
   ],
   "source": [
    "lm.fit(X_train, y_train)"
   ]
  },
  {
   "cell_type": "code",
   "execution_count": 32,
   "metadata": {},
   "outputs": [
    {
     "data": {
      "text/plain": [
       "31.2603365473602"
      ]
     },
     "execution_count": 32,
     "metadata": {},
     "output_type": "execute_result"
    }
   ],
   "source": [
    "lm.intercept_"
   ]
  },
  {
   "cell_type": "code",
   "execution_count": 33,
   "metadata": {},
   "outputs": [
    {
     "data": {
      "text/html": [
       "<div>\n",
       "<style scoped>\n",
       "    .dataframe tbody tr th:only-of-type {\n",
       "        vertical-align: middle;\n",
       "    }\n",
       "\n",
       "    .dataframe tbody tr th {\n",
       "        vertical-align: top;\n",
       "    }\n",
       "\n",
       "    .dataframe thead th {\n",
       "        text-align: right;\n",
       "    }\n",
       "</style>\n",
       "<table border=\"1\" class=\"dataframe\">\n",
       "  <thead>\n",
       "    <tr style=\"text-align: right;\">\n",
       "      <th></th>\n",
       "      <th>Coeff</th>\n",
       "    </tr>\n",
       "  </thead>\n",
       "  <tbody>\n",
       "    <tr>\n",
       "      <th>Your height in meters</th>\n",
       "      <td>-0.277970</td>\n",
       "    </tr>\n",
       "    <tr>\n",
       "      <th>Your weight in kg</th>\n",
       "      <td>0.331394</td>\n",
       "    </tr>\n",
       "    <tr>\n",
       "      <th>Your gender</th>\n",
       "      <td>0.321191</td>\n",
       "    </tr>\n",
       "    <tr>\n",
       "      <th>Your marital Status</th>\n",
       "      <td>-5.358373</td>\n",
       "    </tr>\n",
       "    <tr>\n",
       "      <th>Highest educational attainment</th>\n",
       "      <td>0.083639</td>\n",
       "    </tr>\n",
       "  </tbody>\n",
       "</table>\n",
       "</div>"
      ],
      "text/plain": [
       "                                   Coeff\n",
       "Your height in meters          -0.277970\n",
       "Your weight in kg               0.331394\n",
       "Your gender                     0.321191\n",
       "Your marital Status            -5.358373\n",
       "Highest educational attainment  0.083639"
      ]
     },
     "execution_count": 33,
     "metadata": {},
     "output_type": "execute_result"
    }
   ],
   "source": [
    "pd.DataFrame(lm.coef_, X.columns, columns=[\"Coeff\"])"
   ]
  },
  {
   "cell_type": "markdown",
   "metadata": {},
   "source": [
    "### Predictions"
   ]
  },
  {
   "cell_type": "code",
   "execution_count": 34,
   "metadata": {},
   "outputs": [],
   "source": [
    "prediction = lm.predict(X_test)"
   ]
  },
  {
   "cell_type": "markdown",
   "metadata": {},
   "source": [
    "### Model Evaluation"
   ]
  },
  {
   "cell_type": "code",
   "execution_count": 35,
   "metadata": {},
   "outputs": [],
   "source": [
    "from sklearn.metrics import r2_score, mean_absolute_error, mean_squared_error"
   ]
  },
  {
   "cell_type": "code",
   "execution_count": 36,
   "metadata": {},
   "outputs": [
    {
     "name": "stdout",
     "output_type": "stream",
     "text": [
      "The mean absolute error: 5.47784492595246\n",
      "The mean squared error: 70.82306898209009\n",
      "The root squared mean error: 8.415644299879249\n",
      "The R2 Score: 0.1487402637756472\n"
     ]
    }
   ],
   "source": [
    "print(f\"The mean absolute error: {mean_absolute_error(y_test,prediction)}\")\n",
    "print(f\"The mean squared error: {mean_squared_error(y_test,prediction)}\")\n",
    "print(f\"The root squared mean error: {np.sqrt(mean_squared_error(y_test,prediction))}\")\n",
    "print(f\"The R2 Score: {r2_score(y_test,prediction)}\")"
   ]
  },
  {
   "cell_type": "code",
   "execution_count": 37,
   "metadata": {},
   "outputs": [],
   "source": [
    "from sklearn.model_selection import cross_val_score"
   ]
  },
  {
   "cell_type": "code",
   "execution_count": 38,
   "metadata": {},
   "outputs": [
    {
     "name": "stdout",
     "output_type": "stream",
     "text": [
      "15.32\n"
     ]
    }
   ],
   "source": [
    "score = cross_val_score(lm, X, y, cv=5)\n",
    "print(round(np.mean(score)*100,2))"
   ]
  },
  {
   "cell_type": "code",
   "execution_count": 39,
   "metadata": {},
   "outputs": [
    {
     "data": {
      "text/plain": [
       "<matplotlib.axes._subplots.AxesSubplot at 0x17f17de4bc8>"
      ]
     },
     "execution_count": 39,
     "metadata": {},
     "output_type": "execute_result"
    },
    {
     "data": {
      "image/png": "[encoded data removed]",
      "text/plain": [
       "<Figure size 432x288 with 1 Axes>"
      ]
     },
     "metadata": {
      "needs_background": "light"
     },
     "output_type": "display_data"
    }
   ],
   "source": [
    "coef = pd.Series(lm.coef_, X.columns).sort_values()\n",
    "coef.plot(kind=\"bar\", title=\"Feature Importance\")"
   ]
  },
  {
   "cell_type": "markdown",
   "metadata": {},
   "source": [
    "### KNN Regression Model"
   ]
  },
  {
   "cell_type": "code",
   "execution_count": 40,
   "metadata": {},
   "outputs": [],
   "source": [
    "from sklearn.neighbors import KNeighborsRegressor"
   ]
  },
  {
   "cell_type": "code",
   "execution_count": 61,
   "metadata": {},
   "outputs": [],
   "source": [
    "knn = KNeighborsRegressor(n_neighbors=1)"
   ]
  },
  {
   "cell_type": "code",
   "execution_count": 62,
   "metadata": {},
   "outputs": [
    {
     "data": {
      "text/plain": [
       "KNeighborsRegressor(algorithm='auto', leaf_size=30, metric='minkowski',\n",
       "                    metric_params=None, n_jobs=None, n_neighbors=1, p=2,\n",
       "                    weights='uniform')"
      ]
     },
     "execution_count": 62,
     "metadata": {},
     "output_type": "execute_result"
    }
   ],
   "source": [
    "knn.fit(X_train, y_train)"
   ]
  },
  {
   "cell_type": "code",
   "execution_count": 63,
   "metadata": {},
   "outputs": [],
   "source": [
    "pred = knn.predict(X_test)"
   ]
  },
  {
   "cell_type": "code",
   "execution_count": 64,
   "metadata": {},
   "outputs": [
    {
     "name": "stdout",
     "output_type": "stream",
     "text": [
      "The mean absolute error: 5.297297297297297\n",
      "The mean squared error: 61.513513513513516\n",
      "The root squared mean error: 7.843055113507332\n",
      "The R2 Score: 0.2606367100388066\n",
      "The Cross Validation Score: 15.32\n"
     ]
    }
   ],
   "source": [
    "print(f\"The mean absolute error: {mean_absolute_error(y_test,pred)}\")\n",
    "print(f\"The mean squared error: {mean_squared_error(y_test,pred)}\")\n",
    "print(f\"The root squared mean error: {np.sqrt(mean_squared_error(y_test,pred))}\")\n",
    "print(f\"The R2 Score: {r2_score(y_test,pred)}\")\n",
    "score = cross_val_score(lm, X, y, cv=5)\n",
    "print(f\"The Cross Validation Score: {round(np.mean(score)*100,2)}\")"
   ]
  },
  {
   "cell_type": "code",
   "execution_count": 59,
   "metadata": {},
   "outputs": [],
   "source": [
    "error_rate = []\n",
    "for i in range(1,60):\n",
    "    knn = KNeighborsRegressor(n_neighbors=i)\n",
    "    knn.fit(X_train, y_train)\n",
    "    pred_i = knn.predict(X_test)\n",
    "    error_rate.append(np.mean(pred_i != y_test))"
   ]
  },
  {
   "cell_type": "code",
   "execution_count": 60,
   "metadata": {},
   "outputs": [
    {
     "data": {
      "image/png": "[encoded data removed]",
      "text/plain": [
       "<Figure size 720x432 with 1 Axes>"
      ]
     },
     "metadata": {
      "needs_background": "light"
     },
     "output_type": "display_data"
    }
   ],
   "source": [
    "plt.figure(figsize=(10,6))\n",
    "plt.plot(range(1,60), error_rate,color=\"blue\", linestyle=\"dashed\", marker=\"o\",\n",
    "        markerfacecolor=\"red\", markersize=10)\n",
    "plt.title(\"Error Rate vs K value\")\n",
    "plt.xlabel(\"K Value\")\n",
    "plt.ylabel(\"Error Rate\");"
   ]
  },
  {
   "cell_type": "markdown",
   "metadata": {},
   "source": [
    "### Decision Tree Regressor"
   ]
  },
  {
   "cell_type": "code",
   "execution_count": 65,
   "metadata": {},
   "outputs": [],
   "source": [
    "from sklearn.tree import DecisionTreeRegressor"
   ]
  },
  {
   "cell_type": "code",
   "execution_count": 66,
   "metadata": {},
   "outputs": [],
   "source": [
    "dt = DecisionTreeRegressor()"
   ]
  },
  {
   "cell_type": "code",
   "execution_count": 68,
   "metadata": {},
   "outputs": [
    {
     "data": {
      "text/plain": [
       "DecisionTreeRegressor(ccp_alpha=0.0, criterion='mse', max_depth=None,\n",
       "                      max_features=None, max_leaf_nodes=None,\n",
       "                      min_impurity_decrease=0.0, min_impurity_split=None,\n",
       "                      min_samples_leaf=1, min_samples_split=2,\n",
       "                      min_weight_fraction_leaf=0.0, presort='deprecated',\n",
       "                      random_state=None, splitter='best')"
      ]
     },
     "execution_count": 68,
     "metadata": {},
     "output_type": "execute_result"
    }
   ],
   "source": [
    "dt.fit(X_train, y_train)"
   ]
  },
  {
   "cell_type": "code",
   "execution_count": 69,
   "metadata": {},
   "outputs": [],
   "source": [
    "pred = dt.predict(X_test)"
   ]
  },
  {
   "cell_type": "code",
   "execution_count": 70,
   "metadata": {},
   "outputs": [
    {
     "name": "stdout",
     "output_type": "stream",
     "text": [
      "The mean absolute error: 5.594594594594595\n",
      "The mean squared error: 64.78378378378379\n",
      "The root squared mean error: 8.048837418148276\n",
      "The R2 Score: 0.22132961070431434\n",
      "The Cross Validation Score: 15.32\n"
     ]
    }
   ],
   "source": [
    "print(f\"The mean absolute error: {mean_absolute_error(y_test,pred)}\")\n",
    "print(f\"The mean squared error: {mean_squared_error(y_test,pred)}\")\n",
    "print(f\"The root squared mean error: {np.sqrt(mean_squared_error(y_test,pred))}\")\n",
    "print(f\"The R2 Score: {r2_score(y_test,pred)}\")\n",
    "score = cross_val_score(lm, X, y, cv=5)\n",
    "print(f\"The Cross Validation Score: {round(np.mean(score)*100,2)}\")"
   ]
  },
  {
   "cell_type": "code",
   "execution_count": 78,
   "metadata": {},
   "outputs": [
    {
     "data": {
      "text/plain": [
       "<matplotlib.axes._subplots.AxesSubplot at 0x17f198bba48>"
      ]
     },
     "execution_count": 78,
     "metadata": {},
     "output_type": "execute_result"
    },
    {
     "data": {
      "image/png": "[encoded data removed]",
      "text/plain": [
       "<Figure size 432x288 with 1 Axes>"
      ]
     },
     "metadata": {
      "needs_background": "light"
     },
     "output_type": "display_data"
    }
   ],
   "source": [
    "coef = pd.Series(dt.feature_importances_, X.columns).sort_values()\n",
    "coef.plot(kind=\"bar\", title=\"Feature Importance\")"
   ]
  },
  {
   "cell_type": "markdown",
   "metadata": {},
   "source": [
    "### Random Forest Regressor"
   ]
  },
  {
   "cell_type": "code",
   "execution_count": 71,
   "metadata": {},
   "outputs": [],
   "source": [
    "from sklearn.ensemble import RandomForestRegressor"
   ]
  },
  {
   "cell_type": "code",
   "execution_count": 72,
   "metadata": {},
   "outputs": [],
   "source": [
    "rf = RandomForestRegressor()"
   ]
  },
  {
   "cell_type": "code",
   "execution_count": 73,
   "metadata": {},
   "outputs": [
    {
     "data": {
      "text/plain": [
       "RandomForestRegressor(bootstrap=True, ccp_alpha=0.0, criterion='mse',\n",
       "                      max_depth=None, max_features='auto', max_leaf_nodes=None,\n",
       "                      max_samples=None, min_impurity_decrease=0.0,\n",
       "                      min_impurity_split=None, min_samples_leaf=1,\n",
       "                      min_samples_split=2, min_weight_fraction_leaf=0.0,\n",
       "                      n_estimators=100, n_jobs=None, oob_score=False,\n",
       "                      random_state=None, verbose=0, warm_start=False)"
      ]
     },
     "execution_count": 73,
     "metadata": {},
     "output_type": "execute_result"
    }
   ],
   "source": [
    "rf.fit(X_train, y_train)"
   ]
  },
  {
   "cell_type": "code",
   "execution_count": 75,
   "metadata": {},
   "outputs": [],
   "source": [
    "pred = rf.predict(X_test)"
   ]
  },
  {
   "cell_type": "code",
   "execution_count": 76,
   "metadata": {},
   "outputs": [
    {
     "name": "stdout",
     "output_type": "stream",
     "text": [
      "The mean absolute error: 4.564689832689832\n",
      "The mean squared error: 38.62440793773366\n",
      "The root squared mean error: 6.2148538146712395\n",
      "The R2 Score: 0.5357529151806232\n",
      "The Cross Validation Score: 15.32\n"
     ]
    }
   ],
   "source": [
    "print(f\"The mean absolute error: {mean_absolute_error(y_test,pred)}\")\n",
    "print(f\"The mean squared error: {mean_squared_error(y_test,pred)}\")\n",
    "print(f\"The root squared mean error: {np.sqrt(mean_squared_error(y_test,pred))}\")\n",
    "print(f\"The R2 Score: {r2_score(y_test,pred)}\")\n",
    "score = cross_val_score(lm, X, y, cv=5)\n",
    "print(f\"The Cross Validation Score: {round(np.mean(score)*100,2)}\")"
   ]
  },
  {
   "cell_type": "code",
   "execution_count": 80,
   "metadata": {},
   "outputs": [
    {
     "data": {
      "text/plain": [
       "<matplotlib.axes._subplots.AxesSubplot at 0x17f19218b88>"
      ]
     },
     "execution_count": 80,
     "metadata": {},
     "output_type": "execute_result"
    },
    {
     "data": {
      "image/png": "[encoded data removed]",
      "text/plain": [
       "<Figure size 432x288 with 1 Axes>"
      ]
     },
     "metadata": {
      "needs_background": "light"
     },
     "output_type": "display_data"
    }
   ],
   "source": [
    "coef = pd.Series(rf.feature_importances_, X.columns).sort_values()\n",
    "coef.plot(kind=\"bar\", title=\"Feature Importance\")"
   ]
  },
  {
   "cell_type": "markdown",
   "metadata": {},
   "source": [
    "### ExtraTrees Regressor"
   ]
  },
  {
   "cell_type": "code",
   "execution_count": 81,
   "metadata": {},
   "outputs": [],
   "source": [
    "from sklearn.ensemble import ExtraTreesRegressor"
   ]
  },
  {
   "cell_type": "code",
   "execution_count": 87,
   "metadata": {},
   "outputs": [],
   "source": [
    "et = ExtraTreesRegressor(n_jobs=1)"
   ]
  },
  {
   "cell_type": "code",
   "execution_count": 88,
   "metadata": {},
   "outputs": [
    {
     "data": {
      "text/plain": [
       "ExtraTreesRegressor(bootstrap=False, ccp_alpha=0.0, criterion='mse',\n",
       "                    max_depth=None, max_features='auto', max_leaf_nodes=None,\n",
       "                    max_samples=None, min_impurity_decrease=0.0,\n",
       "                    min_impurity_split=None, min_samples_leaf=1,\n",
       "                    min_samples_split=2, min_weight_fraction_leaf=0.0,\n",
       "                    n_estimators=100, n_jobs=1, oob_score=False,\n",
       "                    random_state=None, verbose=0, warm_start=False)"
      ]
     },
     "execution_count": 88,
     "metadata": {},
     "output_type": "execute_result"
    }
   ],
   "source": [
    "et.fit(X_train, y_train)"
   ]
  },
  {
   "cell_type": "code",
   "execution_count": 89,
   "metadata": {},
   "outputs": [],
   "source": [
    "pred = et.predict(X_test)"
   ]
  },
  {
   "cell_type": "code",
   "execution_count": 90,
   "metadata": {},
   "outputs": [
    {
     "name": "stdout",
     "output_type": "stream",
     "text": [
      "The mean absolute error: 4.228108108108109\n",
      "The mean squared error: 36.20486891891892\n",
      "The root squared mean error: 6.01704818984516\n",
      "The R2 Score: 0.5648346279126938\n",
      "The Cross Validation Score: 15.32\n"
     ]
    }
   ],
   "source": [
    "print(f\"The mean absolute error: {mean_absolute_error(y_test,pred)}\")\n",
    "print(f\"The mean squared error: {mean_squared_error(y_test,pred)}\")\n",
    "print(f\"The root squared mean error: {np.sqrt(mean_squared_error(y_test,pred))}\")\n",
    "print(f\"The R2 Score: {r2_score(y_test,pred)}\")\n",
    "score = cross_val_score(lm, X, y, cv=5)\n",
    "print(f\"The Cross Validation Score: {round(np.mean(score)*100,2)}\")"
   ]
  }
 ],
 "metadata": {
  "kernelspec": {
   "display_name": "Python 3",
   "language": "python",
   "name": "python3"
  },
  "language_info": {
   "codemirror_mode": {
    "name": "ipython",
    "version": 3
   },
   "file_extension": ".py",
   "mimetype": "text/x-python",
   "name": "python",
   "nbconvert_exporter": "python",
   "pygments_lexer": "ipython3",
   "version": "3.7.6"
  }
 },
 "nbformat": 4,
 "nbformat_minor": 4
}
